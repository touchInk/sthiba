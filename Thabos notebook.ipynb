{
  "metadata": {
    "kernelspec": {
      "name": "python",
      "display_name": "Pyolite",
      "language": "python"
    },
    "language_info": {
      "codemirror_mode": {
        "name": "python",
        "version": 3
      },
      "file_extension": ".py",
      "mimetype": "text/x-python",
      "name": "python",
      "nbconvert_exporter": "python",
      "pygments_lexer": "ipython3",
      "version": "3.8"
    },
    "toc-showmarkdowntxt": true,
    "toc-autonumbering": false,
    "toc-showtags": true,
    "toc-showcode": false
  },
  "nbformat_minor": 4,
  "nbformat": 4,
  "cells": [
    {
      "cell_type": "markdown",
      "source": "<center>\n    <img src=\"https://s3-api.us-geo.objectstorage.softlayer.net/cf-courses-data/CognitiveClass/Logos/organization_logo/organization_logo.png\" width=\"300\" alt=\"cognitiveclass.ai logo\"  />\n</center>\n",
      "metadata": {}
    },
    {
      "cell_type": "markdown",
      "source": "#### Add your code below following the instructions given in the course\n",
      "metadata": {}
    },
    {
      "cell_type": "markdown",
      "source": "My Jupyter Notebook on IBM Watson Studio",
      "metadata": {}
    },
    {
      "cell_type": "markdown",
      "source": "**Thabo Diale** ",
      "metadata": {}
    },
    {
      "cell_type": "markdown",
      "source": "_I am intrested in data science because i love working with big data, very curious in nature._\n\n_I am intrested in data science because i love math and statistics_",
      "metadata": {}
    },
    {
      "cell_type": "markdown",
      "source": "\nThe following code tests the Gauss formuala",
      "metadata": {}
    },
    {
      "cell_type": "markdown",
      "source": "the following code test math ",
      "metadata": {}
    },
    {
      "cell_type": "code",
      "source": "(20+10)/3",
      "metadata": {
        "trusted": true
      },
      "execution_count": 3,
      "outputs": [
        {
          "execution_count": 3,
          "output_type": "execute_result",
          "data": {
            "text/plain": "10.0"
          },
          "metadata": {}
        }
      ]
    },
    {
      "cell_type": "markdown",
      "source": "- bulleted list \n- one \n- two\n- three",
      "metadata": {}
    },
    {
      "cell_type": "markdown",
      "source": "1. mother \n2. father \n3. son \n4. daugther\n5. grandmother \n",
      "metadata": {}
    },
    {
      "cell_type": "code",
      "source": "",
      "metadata": {},
      "execution_count": null,
      "outputs": []
    }
  ]
}